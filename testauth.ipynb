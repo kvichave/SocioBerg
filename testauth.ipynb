{
 "cells": [
  {
   "cell_type": "code",
   "execution_count": 2,
   "metadata": {},
   "outputs": [],
   "source": [
    "\n",
    "from credentials import CLIENT_ID,CLIENT_SECRET\n",
    "import requests\n",
    "codeUrl='https://www.facebook.com/v13.0/dialog/oauth?client_id=1392141388101711&redirect_uri=https://127.0.0.1:5000/success&for=\"instagram\"&scope=read_insights,pages_manage_cta,pages_show_list,business_management,instagram_basic,instagram_manage_comments,instagram_manage_insights,instagram_content_publish,pages_read_engagement,pages_manage_metadata,pages_read_user_content,pages_manage_posts,instagram_manage_events,,page_events,pages_messaging,pages_messaging_subscriptions,instagram_manage_messages&response_type=code'"
   ]
  },
  {
   "cell_type": "code",
   "execution_count": null,
   "metadata": {},
   "outputs": [],
   "source": []
  },
  {
   "cell_type": "code",
   "execution_count": 22,
   "metadata": {},
   "outputs": [
    {
     "name": "stdout",
     "output_type": "stream",
     "text": [
      "{'error': {'message': 'Error validating verification code. Please make sure your redirect_uri is identical to the one you used in the OAuth dialog request', 'type': 'OAuthException', 'code': 100, 'error_subcode': 36008, 'fbtrace_id': 'ApEmz2mXikMVcwNIYscGz2s'}}\n"
     ]
    }
   ],
   "source": [
    "url='https://graph.facebook.com/v18.0/oauth/access_token?client_id=1392141388101711&redirect_uri=https://127.0.0.1:5000/success&for=\"instagram\"&client_secret=bf1260d487a10744bf2aa02eb24326c5&code=AQBTsNApeCwxBORa0NLFJSx6mOgZDcHXJ8LbSZVJAY9zOFX_ja2JZLGx2ONWPqdUIh_7Kwl__Q09cRY7-L1G3BmdZznDftsYoqfdro35CXq80LnhdRNmoXqJEuEKko7Bx4xQxRVy_qPbf-w26TEeoWJ4ENYZTZXhOEinKd9EhH4eh-er3vpgZCtrXwfM81dJvgW_SQL3Ny7TWKvyRGvlC8XezG_jz7tCg_VFpvEqVnmOZkXw9aTDQtJL83Nu_xnBSqosE1Q1UgTwGTxm7opdm4oPoflaCpZM-_FTWbsvpDG_3e5HOPka0CuxkbTIuYFLCAVDLmBLO4jPPPp3P3VFGfrztXibAi-a-aKwds8OyPabHdJ4G68PX9HnLddW2OjxGGjEhOuoIXQb8im_dFPhhFy8'\n",
    "\n",
    "\n",
    "data=requests.get(url).json()\n",
    "print(data)"
   ]
  },
  {
   "cell_type": "code",
   "execution_count": 7,
   "metadata": {},
   "outputs": [
    {
     "name": "stdout",
     "output_type": "stream",
     "text": [
      "OAuthException\n"
     ]
    }
   ],
   "source": [
    "\n",
    "print(data['error']['type'])"
   ]
  },
  {
   "cell_type": "code",
   "execution_count": 14,
   "metadata": {},
   "outputs": [
    {
     "name": "stdout",
     "output_type": "stream",
     "text": [
      "yes\n"
     ]
    }
   ],
   "source": [
    "if data.get('access_code', 'None') ==\"None\":\n",
    "    print('yes')\n",
    "else:\n",
    "    print('no')"
   ]
  },
  {
   "cell_type": "code",
   "execution_count": 10,
   "metadata": {},
   "outputs": [],
   "source": [
    "accountUrl='https://graph.facebook.com/v18.0/me/accounts?fields=name,id,picture&access_token=EAATyJSzqOE8BO1T4jlA7E7CIUmpziN5y12MdWivgJWS08bQHlgc2SUyZAUcRWlhbNsQZBXadZBi7aNs6Q2oUtoSfQMJTw4RFbqL2ZA6e1lOxwuB1CTZCrutdTuVwZAnFfmOnX0GSV3OnaLSX6UzZBDiyBA7sistWH3tCPICEDJvpSYtOXQrZA13KYXwnbldd1UFt1U6lOwkShlcDZBCqyrgNRKYa4V7ZCmjMS5xHDFrU8EEgZDZD'\n",
    "\n",
    "data=requests.get(accountUrl).json()"
   ]
  },
  {
   "cell_type": "code",
   "execution_count": 40,
   "metadata": {},
   "outputs": [
    {
     "data": {
      "text/plain": [
       "{'data': [{'name': 'Socioberg',\n",
       "   'id': '228514040340729',\n",
       "   'picture': {'data': {'height': 50,\n",
       "     'is_silhouette': False,\n",
       "     'url': 'https://scontent.fbom10-1.fna.fbcdn.net/v/t39.30808-1/417440525_122093492402199751_3425981963972386400_n.png?stp=cp0_dst-png_p50x50&_nc_cat=100&ccb=1-7&_nc_sid=4da83f&_nc_ohc=5m1kWv1-ndoAX-bJYjN&_nc_ht=scontent.fbom10-1.fna&edm=AGaHXAAEAAAA&oh=00_AfCrWG61OxAWbBhAEn5G1VeB6SWzm0wnHgvc1sj_3vwIyg&oe=65B39F34',\n",
       "     'width': 50}}},\n",
       "  {'name': 'Neuralberg.com',\n",
       "   'id': '144759075398333',\n",
       "   'picture': {'data': {'height': 50,\n",
       "     'is_silhouette': False,\n",
       "     'url': 'https://scontent.fbom10-1.fna.fbcdn.net/v/t39.30808-1/411497767_122105961104151386_8314694624314591683_n.png?stp=cp0_dst-png_p50x50&_nc_cat=110&ccb=1-7&_nc_sid=4da83f&_nc_ohc=7WddcbLpIOYAX__xffj&_nc_ht=scontent.fbom10-1.fna&edm=AGaHXAAEAAAA&oh=00_AfCCUP7JRcos6fUDP2ZZrV0lnlYApSuVkPeslHTtnwQ_zw&oe=65B3AEE6',\n",
       "     'width': 50}}}],\n",
       " 'paging': {'cursors': {'before': 'QVFIUkNjMERnVnV5QnJMQU41UHhRZAkszMGxIOWZA6dDN6SWszV1VHdWFxODRoSHBFbXIwMTRkTkRwZAE9QdW5IM3Rhd2tTRGw2LVkyZAjBZAUTF6OHV6RlozOTRR',\n",
       "   'after': 'QVFIUnJlNllrWVdYQ1gyUlJWMlFqOGVlalU5eGN4SG5rRFdhYWJaTERiNVllYjMzcExBNFhMVzZAta0dfQm1QZA2NpMGFIWU04a1JTS2RlMVJqM05CTkpnYzRB'}}}"
      ]
     },
     "execution_count": 40,
     "metadata": {},
     "output_type": "execute_result"
    }
   ],
   "source": [
    "# data=response.json()\n",
    "data"
   ]
  },
  {
   "cell_type": "code",
   "execution_count": 38,
   "metadata": {},
   "outputs": [
    {
     "name": "stdout",
     "output_type": "stream",
     "text": [
      "Socioberg 228514040340729 https://scontent.fbom10-1.fna.fbcdn.net/v/t39.30808-1/417440525_122093492402199751_3425981963972386400_n.png?stp=cp0_dst-png_p50x50&_nc_cat=100&ccb=1-7&_nc_sid=4da83f&_nc_ohc=5m1kWv1-ndoAX-bJYjN&_nc_ht=scontent.fbom10-1.fna&edm=AGaHXAAEAAAA&oh=00_AfCrWG61OxAWbBhAEn5G1VeB6SWzm0wnHgvc1sj_3vwIyg&oe=65B39F34\n",
      "Neuralberg.com 144759075398333 https://scontent.fbom10-1.fna.fbcdn.net/v/t39.30808-1/411497767_122105961104151386_8314694624314591683_n.png?stp=cp0_dst-png_p50x50&_nc_cat=110&ccb=1-7&_nc_sid=4da83f&_nc_ohc=7WddcbLpIOYAX__xffj&_nc_ht=scontent.fbom10-1.fna&edm=AGaHXAAEAAAA&oh=00_AfCCUP7JRcos6fUDP2ZZrV0lnlYApSuVkPeslHTtnwQ_zw&oe=65B3AEE6\n"
     ]
    }
   ],
   "source": [
    "# data['data']\n",
    "\n",
    "for i in data['data']:\n",
    "    print(i['name'],i['id'],i['picture']['data']['url'])"
   ]
  },
  {
   "cell_type": "code",
   "execution_count": 160,
   "metadata": {},
   "outputs": [],
   "source": [
    "import sqlite3\n",
    "connect = sqlite3.connect('socio.db') \n",
    "cursor = connect.cursor() \n",
    "cursor.execute(\"SELECT DISTINCT forApp FROM Access_code WHERE username='kunal'\") \n",
    "# cursor.execute(\"SELECT * FROM Access_code\") \n",
    "\n",
    "accessFor = cursor.fetchall()\n"
   ]
  },
  {
   "cell_type": "code",
   "execution_count": 161,
   "metadata": {},
   "outputs": [
    {
     "name": "stdout",
     "output_type": "stream",
     "text": [
      "['instagram', 'face']\n"
     ]
    }
   ],
   "source": [
    "li=[]\n",
    "for item in data:\n",
    "    li.append(item[0])\n",
    "print(li)"
   ]
  },
  {
   "cell_type": "code",
   "execution_count": 162,
   "metadata": {},
   "outputs": [
    {
     "name": "stdout",
     "output_type": "stream",
     "text": [
      "run\n"
     ]
    }
   ],
   "source": [
    "if not data or any(item[0] != 'instagram' for item in data):\n",
    "    print('run')\n",
    "else:\n",
    "    print(\"dont run\")"
   ]
  },
  {
   "cell_type": "code",
   "execution_count": 163,
   "metadata": {},
   "outputs": [
    {
     "data": {
      "text/plain": [
       "'instagram'"
      ]
     },
     "execution_count": 163,
     "metadata": {},
     "output_type": "execute_result"
    }
   ],
   "source": [
    "[item for item in data if item[0]=='instagram'][0][0]"
   ]
  },
  {
   "cell_type": "code",
   "execution_count": 171,
   "metadata": {},
   "outputs": [
    {
     "data": {
      "text/plain": [
       "[]"
      ]
     },
     "execution_count": 171,
     "metadata": {},
     "output_type": "execute_result"
    }
   ],
   "source": [
    "li=[]\n",
    "for item in data:\n",
    "    li.append(item[0])\n",
    "# print(li)\n",
    "[item for item in accessFor if item==('instagram',)]\n",
    "accessFor"
   ]
  },
  {
   "cell_type": "code",
   "execution_count": 167,
   "metadata": {},
   "outputs": [
    {
     "name": "stdout",
     "output_type": "stream",
     "text": [
      "yes\n"
     ]
    }
   ],
   "source": [
    "if not accessFor or [item for item in accessFor if item==('instagram',)] == [('instagram',)]:\n",
    "    print('yes')"
   ]
  },
  {
   "cell_type": "code",
   "execution_count": 172,
   "metadata": {},
   "outputs": [
    {
     "name": "stdout",
     "output_type": "stream",
     "text": [
      "EAATyJSzqOE8BOZBVyfWsD8Uv26pOxOqFVJairZC4fIextvIsp3jcuFiAlh1H5ygOLjWrFOzFvZAVTwztRZAfImALP6dwbbcnhu43vCmzSwDXzyZCsCVsSZBuYupB7w0vBq2TEZBxoBN1rSEY4pcGjIksUPMOtJN7Kb5LQNsLU6ahR1MWntFFpgMtPxbQXLKjCvmYWntaDPq8LGNWpnNu0VwB7ijR9aSRVMHcRr0hDgSaubPgIpuRxMKHjN6FaVtN2B2Idhw6vmZCwAZDZD\n"
     ]
    }
   ],
   "source": [
    "connect = sqlite3.connect('socio.db') \n",
    "cursor = connect.cursor() \n",
    "cursor.execute(\"SELECT access_code FROM Access_code WHERE username = 'kunal' AND forApp = 'instagram'\") \n",
    "# print(\"inside else\")\n",
    "ACCESS_TOKEN = cursor.fetchall()[0][0]\n",
    "print(ACCESS_TOKEN)"
   ]
  },
  {
   "cell_type": "code",
   "execution_count": 23,
   "metadata": {},
   "outputs": [
    {
     "ename": "IntegrityError",
     "evalue": "UNIQUE constraint failed: users.email",
     "output_type": "error",
     "traceback": [
      "\u001b[0;31m---------------------------------------------------------------------------\u001b[0m",
      "\u001b[0;31mIntegrityError\u001b[0m                            Traceback (most recent call last)",
      "Cell \u001b[0;32mIn[23], line 14\u001b[0m\n\u001b[1;32m     12\u001b[0m \u001b[38;5;66;03m# Use a parameterized query to avoid SQL injection\u001b[39;00m\n\u001b[1;32m     13\u001b[0m query \u001b[38;5;241m=\u001b[39m \u001b[38;5;124m\"\u001b[39m\u001b[38;5;124mINSERT INTO users (username, email, password) VALUES (?, ?, ?);\u001b[39m\u001b[38;5;124m\"\u001b[39m\n\u001b[0;32m---> 14\u001b[0m \u001b[43mcursor\u001b[49m\u001b[38;5;241;43m.\u001b[39;49m\u001b[43mexecute\u001b[49m\u001b[43m(\u001b[49m\u001b[43mquery\u001b[49m\u001b[43m,\u001b[49m\u001b[43m \u001b[49m\u001b[43m(\u001b[49m\u001b[43musername\u001b[49m\u001b[43m,\u001b[49m\u001b[43m \u001b[49m\u001b[43memail\u001b[49m\u001b[43m,\u001b[49m\u001b[43m \u001b[49m\u001b[43mpassword\u001b[49m\u001b[43m)\u001b[49m\u001b[43m)\u001b[49m\n\u001b[1;32m     16\u001b[0m \u001b[38;5;66;03m# Commit the changes to the database\u001b[39;00m\n\u001b[1;32m     17\u001b[0m connection\u001b[38;5;241m.\u001b[39mcommit()\n",
      "\u001b[0;31mIntegrityError\u001b[0m: UNIQUE constraint failed: users.email"
     ]
    }
   ],
   "source": [
    "import sqlite3\n",
    "\n",
    "\n",
    "username='kunal'\n",
    "email='abc@abc.com'\n",
    "password='lanuk'\n",
    "\n",
    "\n",
    "connection = sqlite3.connect('socioberg_user.db')\n",
    "\n",
    "# Create a cursor object to interact with the database\n",
    "cursor = connection.cursor()\n",
    "\n",
    "# Execute a SELECT query to check if the username exists\n",
    "# query = \"SELECT * FROM users WHERE username = '\"+username+\"' OR email = '\"+email+\"';\"\n",
    "query = \"SELECT * FROM users WHERE username = '\"+username+\"' OR email = '\"+email+\"';\"\n",
    "cursor.execute(query)\n",
    "\n",
    "# Fetch the result\n",
    "result = cursor.fetchone()\n",
    "if result==None:\n",
    "    print('yes')\n",
    "else:\n",
    "    print('no')\n",
    "# print(result)\n"
   ]
  },
  {
   "cell_type": "code",
   "execution_count": 57,
   "metadata": {},
   "outputs": [
    {
     "name": "stdout",
     "output_type": "stream",
     "text": [
      "None\n"
     ]
    }
   ],
   "source": [
    "email=\"jsndvjns@ksdbvkjs.sdvjn\"\n",
    "password=\"passssss\"\n",
    "\n",
    "\n",
    "connection = sqlite3.connect('socioberg_user.db')\n",
    "cursor = connection.cursor()\n",
    "\n",
    "# Use a parameterized query to avoid SQL injection\n",
    "query = \"SELECT username FROM users WHERE email = '\"+email+\"' AND password = '\"+password+\"'\"\n",
    "cursor.execute(query)\n",
    "result = cursor.fetchone()\n",
    "\n",
    "\n",
    "# Commit the changes to the database\n",
    "connection.commit()\n",
    "\n",
    "if result==None:\n",
    "    print( \"None\")\n",
    "else:\n",
    "    print(result[0])\n",
    "\n",
    "# print(result)"
   ]
  },
  {
   "cell_type": "code",
   "execution_count": 1,
   "metadata": {},
   "outputs": [
    {
     "ename": "NameError",
     "evalue": "name 'first' is not defined",
     "output_type": "error",
     "traceback": [
      "\u001b[0;31m---------------------------------------------------------------------------\u001b[0m",
      "\u001b[0;31mNameError\u001b[0m                                 Traceback (most recent call last)",
      "Cell \u001b[0;32mIn[1], line 10\u001b[0m\n\u001b[1;32m      5\u001b[0m         \u001b[38;5;28mprint\u001b[39m(\u001b[38;5;124m'\u001b[39m\u001b[38;5;124mvichave\u001b[39m\u001b[38;5;124m'\u001b[39m)\n\u001b[1;32m      8\u001b[0m name()\n\u001b[0;32m---> 10\u001b[0m \u001b[43mfirst\u001b[49m()\n",
      "\u001b[0;31mNameError\u001b[0m: name 'first' is not defined"
     ]
    }
   ],
   "source": [
    "def name():\n",
    "    def first():\n",
    "        print('kunal')\n",
    "    def last():\n",
    "        print('vichave')\n",
    "\n",
    "\n",
    "name()\n",
    "\n"
   ]
  },
  {
   "cell_type": "code",
   "execution_count": 16,
   "metadata": {},
   "outputs": [
    {
     "name": "stdout",
     "output_type": "stream",
     "text": [
      "None\n",
      "<class 'NoneType'>\n",
      "none\n"
     ]
    }
   ],
   "source": [
    "import sqlite3\n",
    "\n",
    "username='kunal'\n",
    "forApp='instagam'\n",
    "\n",
    "connection = sqlite3.connect('socio.db')\n",
    "cursor = connection.cursor()\n",
    "\n",
    "\n",
    "\n",
    "query = \"SELECT access_code FROM Access_code WHERE username = ? AND forApp = ?\"\n",
    "cursor.execute(query, (username, forApp))\n",
    "\n",
    "result = cursor.fetchone()\n",
    "a=print(result)\n",
    "connection.commit()\n",
    "print(type(a))\n",
    "\n",
    "if result==None:\n",
    "    print('none')\n",
    "\n",
    "# elif result[0]!='':\n",
    "#     return result[0]\n"
   ]
  },
  {
   "cell_type": "code",
   "execution_count": 11,
   "metadata": {},
   "outputs": [],
   "source": [
    "import sqlite3\n",
    "\n",
    "username='kunal'\n",
    "forApp='instagam'\n",
    "\n",
    "\n",
    "def retrive_token(username,forApp):\n",
    "    connection = sqlite3.connect('socio.db')\n",
    "    cursor = connection.cursor()\n",
    "\n",
    "\n",
    "\n",
    "    query = \"SELECT access_code FROM Access_code WHERE username = ? AND forApp = ?\"\n",
    "    cursor.execute(query, (username, forApp))\n",
    "\n",
    "    result = cursor.fetchone()\n",
    "    print(result)\n",
    "    connection.commit()\n",
    "\n",
    "    if result=='None':\n",
    "\n",
    "        return \"redirect(url_for('facebook_login'))\"\n",
    "\n",
    "    elif result[0]!='':\n",
    "        return result[0]"
   ]
  },
  {
   "cell_type": "code",
   "execution_count": 12,
   "metadata": {},
   "outputs": [
    {
     "name": "stdout",
     "output_type": "stream",
     "text": [
      "None\n"
     ]
    },
    {
     "ename": "TypeError",
     "evalue": "'NoneType' object is not subscriptable",
     "output_type": "error",
     "traceback": [
      "\u001b[0;31m---------------------------------------------------------------------------\u001b[0m",
      "\u001b[0;31mTypeError\u001b[0m                                 Traceback (most recent call last)",
      "Cell \u001b[0;32mIn[12], line 1\u001b[0m\n\u001b[0;32m----> 1\u001b[0m \u001b[43mretrive_token\u001b[49m\u001b[43m(\u001b[49m\u001b[43musername\u001b[49m\u001b[43m,\u001b[49m\u001b[43mforApp\u001b[49m\u001b[43m)\u001b[49m\n",
      "Cell \u001b[0;32mIn[11], line 24\u001b[0m, in \u001b[0;36mretrive_token\u001b[0;34m(username, forApp)\u001b[0m\n\u001b[1;32m     20\u001b[0m \u001b[38;5;28;01mif\u001b[39;00m result\u001b[38;5;241m==\u001b[39m\u001b[38;5;124m'\u001b[39m\u001b[38;5;124mNone\u001b[39m\u001b[38;5;124m'\u001b[39m:\n\u001b[1;32m     22\u001b[0m     \u001b[38;5;28;01mreturn\u001b[39;00m \u001b[38;5;124m\"\u001b[39m\u001b[38;5;124mredirect(url_for(\u001b[39m\u001b[38;5;124m'\u001b[39m\u001b[38;5;124mfacebook_login\u001b[39m\u001b[38;5;124m'\u001b[39m\u001b[38;5;124m))\u001b[39m\u001b[38;5;124m\"\u001b[39m\n\u001b[0;32m---> 24\u001b[0m \u001b[38;5;28;01melif\u001b[39;00m \u001b[43mresult\u001b[49m\u001b[43m[\u001b[49m\u001b[38;5;241;43m0\u001b[39;49m\u001b[43m]\u001b[49m\u001b[38;5;241m!=\u001b[39m\u001b[38;5;124m'\u001b[39m\u001b[38;5;124m'\u001b[39m:\n\u001b[1;32m     25\u001b[0m     \u001b[38;5;28;01mreturn\u001b[39;00m result[\u001b[38;5;241m0\u001b[39m]\n",
      "\u001b[0;31mTypeError\u001b[0m: 'NoneType' object is not subscriptable"
     ]
    }
   ],
   "source": [
    "retrive_token(username,forApp)"
   ]
  },
  {
   "cell_type": "code",
   "execution_count": 52,
   "metadata": {},
   "outputs": [],
   "source": [
    "username=\"kunal\"\n",
    "forApp=\"instagram\"\n",
    "def retrive_token(username,forApp):\n",
    "\n",
    "    connection = sqlite3.connect('socio.db')\n",
    "    cursor = connection.cursor()\n",
    "\n",
    "\n",
    "\n",
    "    query = \"SELECT access_code, page FROM Access_code WHERE username = '{}' AND forApp = '{}';\".format(username, forApp)\n",
    "    cursor.execute(query)\n",
    "    # print(query)\n",
    "\n",
    "    result = cursor.fetchall()\n",
    "    connection.commit()\n",
    "    # print(result)\n",
    "    if result==None:\n",
    "\n",
    "        return 'None'\n",
    "\n",
    "    elif result!='':\n",
    "        return result[0],result[1]\n",
    "    "
   ]
  },
  {
   "cell_type": "code",
   "execution_count": 56,
   "metadata": {},
   "outputs": [
    {
     "name": "stdout",
     "output_type": "stream",
     "text": [
      "EAATyJSzqOE8BO3XjdeF7DMCrhiKPuh0m4K6afOjUhGGNAa8oZCClhfCqA20ss2VaQd2eUkBQlhMqW40fFOn1p1aBEY0x5QBucpYztEGRR4pFfD6SQ6g3Q6dlndpEPiXlSfc8jsdBi0G6JWZBzEsCzJBQVa17vXLpKR1TAhYqo9DL04ygZBI6f8wy5yslm5Rwtisg9qApi566RZAvY2q6sgZCHIFpXlucIJcZCmtZBgWCB8ZD\n"
     ]
    }
   ],
   "source": [
    "token,id=retrive_token(username,forApp)\n",
    "print(token)"
   ]
  },
  {
   "cell_type": "code",
   "execution_count": 58,
   "metadata": {},
   "outputs": [
    {
     "name": "stdout",
     "output_type": "stream",
     "text": [
      "EAATyJSzqOE8BO3XjdeF7DMCrhiKPuh0m4K6afOjUhGGNAa8oZCClhfCqA20ss2VaQd2eUkBQlhMqW40fFOn1p1aBEY0x5QBucpYztEGRR4pFfD6SQ6g3Q6dlndpEPiXlSfc8jsdBi0G6JWZBzEsCzJBQVa17vXLpKR1TAhYqo9DL04ygZBI6f8wy5yslm5Rwtisg9qApi566RZAvY2q6sgZCHIFpXlucIJcZCmtZBgWCB8ZD\n"
     ]
    }
   ],
   "source": [
    "print(token)"
   ]
  },
  {
   "cell_type": "code",
   "execution_count": 85,
   "metadata": {},
   "outputs": [],
   "source": [
    "def retrive_token(username,forApp):\n",
    "\n",
    "    connection = sqlite3.connect('socio.db')\n",
    "    cursor = connection.cursor()\n",
    "\n",
    "\n",
    "\n",
    "    query = \"SELECT access_code, page FROM Access_code WHERE username = '{}' AND forApp = '{}';\".format(username, forApp)\n",
    "    cursor.execute(query)\n",
    "    # print(query)\n",
    "\n",
    "    result = cursor.fetchall()\n",
    "    connection.commit()\n",
    "    # print(result)\n",
    "    if result==[]:\n",
    "\n",
    "        return 'None'\n",
    "\n",
    "    else:\n",
    "\n",
    "        return result"
   ]
  },
  {
   "cell_type": "code",
   "execution_count": 91,
   "metadata": {},
   "outputs": [
    {
     "data": {
      "text/plain": [
       "'EAATyJSzqOE8BO3XjdeF7DMCrhiKPuh0m4K6afOjUhGGNAa8oZCClhfCqA20ss2VaQd2eUkBQlhMqW40fFOn1p1aBEY0x5QBucpYztEGRR4pFfD6SQ6g3Q6dlndpEPiXlSfc8jsdBi0G6JWZBzEsCzJBQVa17vXLpKR1TAhYqo9DL04ygZBI6f8wy5yslm5Rwtisg9qApi566RZAvY2q6sgZCHIFpXlucIJcZCmtZBgWCB8ZD'"
      ]
     },
     "execution_count": 91,
     "metadata": {},
     "output_type": "execute_result"
    }
   ],
   "source": [
    "username='kunal'\n",
    "forApp='instagram'\n",
    "abc=retrive_token(username,forApp)\n",
    "type(abc)\n",
    "abc[0][1]\n",
    "abc[0][0]\n"
   ]
  },
  {
   "cell_type": "code",
   "execution_count": null,
   "metadata": {},
   "outputs": [],
   "source": []
  },
  {
   "cell_type": "code",
   "execution_count": null,
   "metadata": {},
   "outputs": [],
   "source": []
  }
 ],
 "metadata": {
  "kernelspec": {
   "display_name": "Python 3",
   "language": "python",
   "name": "python3"
  },
  "language_info": {
   "codemirror_mode": {
    "name": "ipython",
    "version": 3
   },
   "file_extension": ".py",
   "mimetype": "text/x-python",
   "name": "python",
   "nbconvert_exporter": "python",
   "pygments_lexer": "ipython3",
   "version": "3.10.12"
  }
 },
 "nbformat": 4,
 "nbformat_minor": 2
}
